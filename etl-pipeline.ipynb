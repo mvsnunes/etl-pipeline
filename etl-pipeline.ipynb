{
 "cells": [
  {
   "cell_type": "markdown",
   "metadata": {},
   "source": [
    "## ETL pipeline\n"
   ]
  },
  {
   "cell_type": "code",
   "execution_count": 21,
   "metadata": {},
   "outputs": [],
   "source": [
    "# import necessary packages\n",
    "\n",
    "import requests # help to pull data from an API\n",
    "import pandas as pd # treatment of data\n",
    "from sqlalchemy  import create_engine # connection with database"
   ]
  },
  {
   "cell_type": "markdown",
   "metadata": {},
   "source": [
    "## (E)xtract\n",
    "\n",
    "Extraction of data from some source"
   ]
  },
  {
   "cell_type": "code",
   "execution_count": 22,
   "metadata": {},
   "outputs": [],
   "source": [
    "def extract()-> dict:\n",
    "    API_URL = \"http://universities.hipolabs.com/search?country=Brazil\"\n",
    "    data = requests.get(API_URL).json()\n",
    "    return data\n"
   ]
  },
  {
   "cell_type": "markdown",
   "metadata": {},
   "source": [
    "## (T)ransform\n",
    "\n",
    "Transformation of data acquired on extract phase."
   ]
  },
  {
   "cell_type": "code",
   "execution_count": 23,
   "metadata": {},
   "outputs": [],
   "source": [
    "def transform(data:dict) -> pd.DataFrame:\n",
    "    df = pd.DataFrame(data)\n",
    "    print(f\"Total Number of universities from API {len(data)}\")\n",
    "    df = df[df[\"name\"].str.contains(\"Universidade Federal\")]\n",
    "    print(f\"Number of federal universities in Brazil {len(df)}\")\n",
    "    df['domains'] = [','.join(map(str, l)) for l in df['domains']]\n",
    "    df['web_pages'] = [','.join(map(str, l)) for l in df['web_pages']]\n",
    "    df = df.reset_index(drop=True)\n",
    "    return df[[\"domains\",\"country\",\"web_pages\",\"name\"]]\n"
   ]
  },
  {
   "cell_type": "markdown",
   "metadata": {},
   "source": [
    "## (L)oad\n",
    "\n",
    "Last step of pipeline. Load the data after the treatment."
   ]
  },
  {
   "cell_type": "code",
   "execution_count": 24,
   "metadata": {},
   "outputs": [],
   "source": [
    "def load(df:pd.DataFrame)-> None:\n",
    "    \"\"\" Loads data into a database\"\"\"\n",
    "    disk_engine = create_engine('sqlite:///my_lite_store.db')\n",
    "    df.to_sql('cal_uni', disk_engine, if_exists='replace')\n"
   ]
  },
  {
   "cell_type": "markdown",
   "metadata": {},
   "source": [
    "## ETL\n",
    "\n",
    "Run all functions."
   ]
  },
  {
   "cell_type": "code",
   "execution_count": 25,
   "metadata": {},
   "outputs": [
    {
     "name": "stdout",
     "output_type": "stream",
     "text": [
      "Total Number of universities from API 175\n",
      "Number of federal universities in Brazil 44\n"
     ]
    }
   ],
   "source": [
    "data = extract()\n",
    "df = transform(data)\n",
    "load(df)\n"
   ]
  }
 ],
 "metadata": {
  "kernelspec": {
   "display_name": "Python 3",
   "language": "python",
   "name": "python3"
  },
  "language_info": {
   "codemirror_mode": {
    "name": "ipython",
    "version": 3
   },
   "file_extension": ".py",
   "mimetype": "text/x-python",
   "name": "python",
   "nbconvert_exporter": "python",
   "pygments_lexer": "ipython3",
   "version": "3.10.5"
  },
  "orig_nbformat": 4
 },
 "nbformat": 4,
 "nbformat_minor": 2
}
